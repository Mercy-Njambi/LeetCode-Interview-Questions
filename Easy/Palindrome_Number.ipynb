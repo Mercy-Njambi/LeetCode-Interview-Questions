{
  "nbformat": 4,
  "nbformat_minor": 0,
  "metadata": {
    "colab": {
      "provenance": [],
      "authorship_tag": "ABX9TyNNABCD8sf4rPvhAZgHFb/N",
      "include_colab_link": true
    },
    "kernelspec": {
      "name": "python3",
      "display_name": "Python 3"
    },
    "language_info": {
      "name": "python"
    }
  },
  "cells": [
    {
      "cell_type": "markdown",
      "metadata": {
        "id": "view-in-github",
        "colab_type": "text"
      },
      "source": [
        "<a href=\"https://colab.research.google.com/github/Mercy-Njambi/LeetCode-Interview-Questions/blob/main/Easy/Palindrome_Number.ipynb\" target=\"_parent\"><img src=\"https://colab.research.google.com/assets/colab-badge.svg\" alt=\"Open In Colab\"/></a>"
      ]
    },
    {
      "cell_type": "markdown",
      "source": [
        "Given an integer x, return true if x is a\n",
        "palindrome\n",
        ", and false otherwise.\n",
        "\n",
        "\n",
        "\n",
        "- Example 1:\n",
        "\n",
        "Input: x = 121\n",
        "\n",
        "Output: true\n",
        "\n",
        "Explanation: 121 reads as 121 from left to right and from right to left.\n",
        "\n",
        "- Example 2:\n",
        "\n",
        "Input: x = -121\n",
        "\n",
        "Output: false\n",
        "\n",
        "Explanation: From left to right, it reads -121. From right to left, it becomes 121-. Therefore it is not a palindrome.\n",
        "\n",
        "- Example 3:\n",
        "\n",
        "Input: x = 10\n",
        "\n",
        "Output: false\n",
        "\n",
        "Explanation: Reads 01 from right to left. Therefore it is not a palindrome.\n",
        "\n",
        "\n",
        "- Constraints:\n",
        "\n",
        "-231 <= x <= 231 - 1"
      ],
      "metadata": {
        "id": "Ev_SocOmU-JR"
      }
    },
    {
      "cell_type": "markdown",
      "source": [
        "## Using Text"
      ],
      "metadata": {
        "id": "E-8Evg6acBGn"
      }
    },
    {
      "cell_type": "code",
      "source": [
        "class Solution:\n",
        "    def isPalindrome(self, x: int) -> bool:\n",
        "        number = str(x)\n",
        "        return number == number[::-1]"
      ],
      "metadata": {
        "id": "IFfQj4HFeFXp"
      },
      "execution_count": null,
      "outputs": []
    },
    {
      "cell_type": "code",
      "source": [
        "class Solution:\n",
        "    def isPalindrome(self, x: int) -> bool:\n",
        "        if x < 0:\n",
        "            return False\n",
        "\n",
        "        num = str(x)\n",
        "        left_pointer = 0\n",
        "        right_pointer = len(num) - 1\n",
        "\n",
        "        while left_pointer < right_pointer:\n",
        "            if num[left_pointer] != num[right_pointer]:\n",
        "                return False\n",
        "            left_pointer += 1\n",
        "            right_pointer -= 1\n",
        "        return True\n",
        "\n",
        ""
      ],
      "metadata": {
        "id": "FGxxBC48T9jY"
      },
      "execution_count": null,
      "outputs": []
    },
    {
      "cell_type": "code",
      "source": [],
      "metadata": {
        "id": "Qj8qhzxuU9Aa"
      },
      "execution_count": null,
      "outputs": []
    }
  ]
}