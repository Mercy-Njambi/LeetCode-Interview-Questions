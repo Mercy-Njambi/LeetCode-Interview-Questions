{
  "nbformat": 4,
  "nbformat_minor": 0,
  "metadata": {
    "colab": {
      "provenance": [],
      "authorship_tag": "ABX9TyPYSgLRsheM/P66Q5FgF2wa",
      "include_colab_link": true
    },
    "kernelspec": {
      "name": "python3",
      "display_name": "Python 3"
    },
    "language_info": {
      "name": "python"
    }
  },
  "cells": [
    {
      "cell_type": "markdown",
      "metadata": {
        "id": "view-in-github",
        "colab_type": "text"
      },
      "source": [
        "<a href=\"https://colab.research.google.com/github/Mercy-Njambi/LeetCode-Interview-Questions/blob/main/Easy/Two_Sum.ipynb\" target=\"_parent\"><img src=\"https://colab.research.google.com/assets/colab-badge.svg\" alt=\"Open In Colab\"/></a>"
      ]
    },
    {
      "cell_type": "markdown",
      "source": [
        "Given an array of integers nums and an integer target, return indices of the two numbers such that they add up to target.\n",
        "\n",
        "You may assume that each input would have exactly one solution, and you may not use the same element twice.\n",
        "\n",
        "You can return the answer in any order.\n",
        "\n",
        "\n",
        "\n",
        "**Example 1:**\n",
        "\n",
        "Input: nums = [2,7,11,15], target = 9\n",
        "\n",
        "Output: [0,1]\n",
        "\n",
        "Explanation: Because nums[0] + nums[1] == 9, we return [0, 1].\n",
        "\n",
        "**Example 2:**\n",
        "\n",
        "Input: nums = [3,2,4], target = 6\n",
        "\n",
        "Output: [1,2]\n",
        "\n",
        "**Example 3:**\n",
        "\n",
        "Input: nums = [3,3], target = 6\n",
        "\n",
        "Output: [0,1]\n",
        "\n",
        "\n",
        "**Constraints:**\n",
        "\n",
        "- 2 <= nums.length <= 104\n",
        "- -109 <= nums[i] <= 109\n",
        "- -109 <= target <= 109\n",
        "\n",
        "Only one valid answer exists."
      ],
      "metadata": {
        "id": "q1G_4JOmFeYg"
      }
    },
    {
      "cell_type": "code",
      "source": [
        "from typing import List"
      ],
      "metadata": {
        "id": "hoBFC_-HFZy3"
      },
      "execution_count": 2,
      "outputs": []
    },
    {
      "cell_type": "code",
      "execution_count": 3,
      "metadata": {
        "id": "TFSTv-iAFALI"
      },
      "outputs": [],
      "source": [
        "class Solution:\n",
        "    def twoSum(self, nums: List[int], target: int) -> List[int]:\n",
        "        # storing value and index\n",
        "        prev_map = {}\n",
        "\n",
        "        for idx,num in enumerate(nums):\n",
        "            # calculating the difference to add up to target\n",
        "            diff = target-num\n",
        "            if diff in prev_map:\n",
        "                return [prev_map[diff], idx]\n",
        "            else:\n",
        "                prev_map[num] = idx"
      ]
    },
    {
      "cell_type": "markdown",
      "source": [
        "Solution : O(N)"
      ],
      "metadata": {
        "id": "cLh7nbnyGUyj"
      }
    }
  ]
}