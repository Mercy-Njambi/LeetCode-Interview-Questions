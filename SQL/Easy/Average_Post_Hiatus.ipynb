{
  "nbformat": 4,
  "nbformat_minor": 0,
  "metadata": {
    "colab": {
      "provenance": [],
      "authorship_tag": "ABX9TyNh57CUiIxgEI6lUrs75V48",
      "include_colab_link": true
    },
    "kernelspec": {
      "name": "python3",
      "display_name": "Python 3"
    },
    "language_info": {
      "name": "python"
    }
  },
  "cells": [
    {
      "cell_type": "markdown",
      "metadata": {
        "id": "view-in-github",
        "colab_type": "text"
      },
      "source": [
        "<a href=\"https://colab.research.google.com/github/Mercy-Njambi/LeetCode-Interview-Questions/blob/main/SQL/Easy/Average_Post_Hiatus.ipynb\" target=\"_parent\"><img src=\"https://colab.research.google.com/assets/colab-badge.svg\" alt=\"Open In Colab\"/></a>"
      ]
    },
    {
      "cell_type": "markdown",
      "source": [
        "Given a table of Facebook posts, for each user who posted at least twice in 2021, write a query to find the number of days between each user’s first post of the year and last post of the year in the year 2021. Output the user and number of the days between each user's first and last post.\n",
        "\n",
        "\n",
        "\n",
        "`posts` Table:\n",
        "\n",
        "|Column Name|\tType|\n",
        "|:---|:---|\n",
        "|user_id|\tinteger|\n",
        "|post_id|\tinteger|\n",
        "|post_content|\ttext|\n",
        "|post_date|\ttimestamp|\n",
        "\n",
        "Example Output:\n",
        "\n",
        "|user_id|\tdays_between|\n",
        "|:---|:---|\n",
        "|151652\t|2|\n",
        "|661093\t|21|\n",
        "\n",
        "\n"
      ],
      "metadata": {
        "id": "l8iCI4ANAToT"
      }
    },
    {
      "cell_type": "code",
      "execution_count": 1,
      "metadata": {
        "id": "sNl3gxLg5wCh"
      },
      "outputs": [],
      "source": [
        "query = \"\"\"\n",
        "SELECT\n",
        "    user_id,\n",
        "    (MAX(post_date)::date - MIN(post_date)::date) AS days_between\n",
        "FROM\n",
        "    posts\n",
        "WHERE\n",
        "    EXTRACT(year FROM post_date) = 2021\n",
        "GROUP BY\n",
        "    user_id\n",
        "HAVING\n",
        "    (MAX(post_date)::date - MIN(post_date)::date) > 0;\n",
        "\"\"\""
      ]
    },
    {
      "cell_type": "code",
      "source": [],
      "metadata": {
        "id": "BDcauFlAAStt"
      },
      "execution_count": null,
      "outputs": []
    }
  ]
}